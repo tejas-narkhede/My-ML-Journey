{
 "cells": [
  {
   "cell_type": "code",
   "execution_count": 1,
   "id": "cdcbe2bc-4e19-4977-97bc-c85d3a2e9aca",
   "metadata": {},
   "outputs": [],
   "source": [
    "import math, copy\n",
    "import numpy as np\n",
    "import matplotlib.pyplot as plt"
   ]
  },
  {
   "cell_type": "markdown",
   "id": "55b15121-8ac6-412c-9cc1-486832ec3581",
   "metadata": {},
   "source": [
    "# Problem Statement\r\n",
    "Let's use the same two data points as before - a house with 1025 square feet sold for Rs.54,65,000 and a house with 1965 square feet sold for Rs.85,76,000. \n",
    "|Square Feet |Price in Lakhs|\n",
    "|-----|--------|\n",
    "|1025|54.65       |\n",
    "|1965|85.76     |      |\r\n",
    "      |\r\n"
   ]
  },
  {
   "cell_type": "code",
   "execution_count": 8,
   "id": "f28bf4d7-c7f1-48db-a1a9-7575d1a46035",
   "metadata": {},
   "outputs": [],
   "source": [
    "x_train = np.array([1025,1965])   #features\n",
    "y_train = np.array([54.65,85.76])   #target value"
   ]
  },
  {
   "cell_type": "code",
   "execution_count": 10,
   "id": "939ff4aa-c644-4bcc-ac13-2802daf34686",
   "metadata": {},
   "outputs": [],
   "source": [
    "def compute_cost(x, y, w, b):\n",
    "    m = x.shape[0]\n",
    "    cost = 0\n",
    "    for i in range(m):\n",
    "        f_wb = w*x[i] + b\n",
    "        cost = cost + (f_wb - y[i])**2\n",
    "    total_cost = cost/(2*m)\n",
    "    return total_cost"
   ]
  },
  {
   "cell_type": "code",
   "execution_count": 12,
   "id": "ba063bbf-845b-4da2-9d02-f46eed3b5a82",
   "metadata": {},
   "outputs": [],
   "source": [
    "def compute_gradient(x, y, w, b):\n",
    "    dj_dw = 0\n",
    "    dj_db = 0\n",
    "    m = x.shape[0]\n",
    "    for i in range(m):\n",
    "        f_wb = w*x[i] + b\n",
    "        dj_dw =+ (f_wb - y[i])*x[i]\n",
    "        dj_db =+ (f_wb - y[i])\n",
    "    dj_dw = dj_dw / m\n",
    "    dj_db = dj_db / m\n",
    "    return dj_dw , dj_db\n",
    "    "
   ]
  },
  {
   "cell_type": "code",
   "execution_count": 44,
   "id": "8ff61bf6-4984-4ae7-a475-0336f6a607dd",
   "metadata": {},
   "outputs": [],
   "source": [
    "def gradient_descent(x, y, win, bin, alpha, itr, pd_gradient, t_cost):\n",
    "    p_history = []\n",
    "    j_history = []\n",
    "    w_history = []\n",
    "    b_history = []\n",
    "    w = copy.deepcopy(win)\n",
    "    b = copy.deepcopy(bin)\n",
    "    for i in range(itr):\n",
    "        dj_dw , dj_db = pd_gradient(x,y,w,b)\n",
    "        temp_b = b - alpha * dj_db\n",
    "        temp_w = w - alpha * dj_dw\n",
    "        b = temp_b\n",
    "        w = temp_w\n",
    "        '''if i<10000:\n",
    "            p_history.append([w,b])\n",
    "            j_history.append(t_cost(x,y,w,b))\n",
    "            w_history.append(w)\n",
    "            b_history.append(b)\n",
    "        if i % math.ceil(itr/10) == 0:\n",
    "            print(f\"Iteration {i:4}  cost : {j_history[i]:1e}  dj_dw : {dj_dw:0.3e}  dj_db : {dj_db:0.3e}  b : {b:0.3e}  w : {w:3e}\")'''\n",
    "    #return w,b,t_cost(x,y,w,b),j_history,w_history,b_history\n",
    "    return t_cost(x,y,w,b)"
   ]
  },
  {
   "cell_type": "code",
   "execution_count": 16,
   "id": "0a295b3b-5c44-4849-830c-3f083a50f54a",
   "metadata": {},
   "outputs": [
    {
     "name": "stdout",
     "output_type": "stream",
     "text": [
      "Iteration    0  cost : 2.584404e+03  dj_dw : -8.426e+04  dj_db : -4.288e+01  b : 4.288e-09  w : 8.425920e-06\n",
      "Iteration 1000  cost : 1.796491e+03  dj_dw : -6.946e+04  dj_db : -3.535e+01  b : 3.903e-06  w : 7.670088e-03\n",
      "Iteration 2000  cost : 1.255341e+03  dj_dw : -5.727e+04  dj_db : -2.914e+01  b : 7.118e-06  w : 1.398649e-02\n",
      "Iteration 3000  cost : 8.828951e+02  dj_dw : -4.721e+04  dj_db : -2.403e+01  b : 9.768e-06  w : 1.919383e-02\n",
      "Iteration 4000  cost : 6.259279e+02  dj_dw : -3.892e+04  dj_db : -1.981e+01  b : 1.195e-05  w : 2.348684e-02\n",
      "Iteration 5000  cost : 4.481192e+02  dj_dw : -3.209e+04  dj_db : -1.633e+01  b : 1.375e-05  w : 2.702607e-02\n",
      "Iteration 6000  cost : 3.246661e+02  dj_dw : -2.645e+04  dj_db : -1.346e+01  b : 1.524e-05  w : 2.994387e-02\n",
      "Iteration 7000  cost : 2.386135e+02  dj_dw : -2.181e+04  dj_db : -1.110e+01  b : 1.646e-05  w : 3.234935e-02\n",
      "Iteration 8000  cost : 1.783574e+02  dj_dw : -1.798e+04  dj_db : -9.150e+00  b : 1.747e-05  w : 3.433246e-02\n",
      "Iteration 9000  cost : 1.359449e+02  dj_dw : -1.482e+04  dj_db : -7.543e+00  b : 1.830e-05  w : 3.596738e-02\n"
     ]
    }
   ],
   "source": [
    "w,b,j,j_history,w_history,b_history = gradient_descent(x_train, y_train, 0, 0, 1e-10, 10000, compute_gradient, compute_cost)"
   ]
  },
  {
   "cell_type": "code",
   "execution_count": 39,
   "id": "da1e85a3-7ed7-40a4-8e63-8d2ece58cc08",
   "metadata": {},
   "outputs": [
    {
     "name": "stdout",
     "output_type": "stream",
     "text": [
      "105.94137102531658\n"
     ]
    }
   ],
   "source": [
    "print(j)"
   ]
  },
  {
   "cell_type": "markdown",
   "id": "dc7e58c9-69ff-4ce8-ae37-c3fa5108337e",
   "metadata": {},
   "source": [
    "Now the thing here is in order to get the minimal cost we will need to iteratively select the value of learning rate alpha. Learning rate alpha is an hyper parameter which will tell us how big of the step we will take in order to reach the minimum point. Now, if alpha is large then the step size is also large and if a alpha is small than the step size will also be small meaning here time taken to reach the minimum will be greater with respect to the number of step taken for small alpha.\n",
    "\n",
    "**Now we will try to automate and find the value of alpha iteratively which will give us minimal cost after the 10k iteration**"
   ]
  },
  {
   "cell_type": "code",
   "execution_count": 35,
   "id": "36b637bb-7d5d-4159-9e8d-71ba12c799fc",
   "metadata": {},
   "outputs": [],
   "source": [
    "n = 1\n",
    "alpha = [ n := n / 10 for i in range(20)]"
   ]
  },
  {
   "cell_type": "code",
   "execution_count": 37,
   "id": "af472b6f-57d1-4349-a586-2e685d5d32cd",
   "metadata": {},
   "outputs": [
    {
     "name": "stdout",
     "output_type": "stream",
     "text": [
      "[0.1, 0.01, 0.001, 0.0001, 1e-05, 1.0000000000000002e-06, 1.0000000000000002e-07, 1.0000000000000002e-08, 1.0000000000000003e-09, 1.0000000000000003e-10, 1.0000000000000003e-11, 1.0000000000000002e-12, 1.0000000000000002e-13, 1.0000000000000002e-14, 1e-15, 1.0000000000000001e-16, 1e-17, 1e-18, 1.0000000000000001e-19, 1.0000000000000001e-20]\n"
     ]
    }
   ],
   "source": [
    "print(alpha)"
   ]
  },
  {
   "cell_type": "code",
   "execution_count": 113,
   "id": "e6fc7a7c-d5fa-48bd-9a10-a0539f5cb543",
   "metadata": {},
   "outputs": [
    {
     "name": "stderr",
     "output_type": "stream",
     "text": [
      "C:\\Users\\wormh\\AppData\\Local\\Temp\\ipykernel_14964\\1246984883.py:7: RuntimeWarning: overflow encountered in scalar multiply\n",
      "  dj_dw =+ (f_wb - y[i])*x[i]\n",
      "C:\\Users\\wormh\\AppData\\Local\\Temp\\ipykernel_14964\\1246984883.py:6: RuntimeWarning: overflow encountered in scalar multiply\n",
      "  f_wb = w*x[i] + b\n",
      "C:\\Users\\wormh\\AppData\\Local\\Temp\\ipykernel_14964\\2597290387.py:10: RuntimeWarning: invalid value encountered in scalar subtract\n",
      "  temp_b = b - alpha * dj_db\n",
      "C:\\Users\\wormh\\AppData\\Local\\Temp\\ipykernel_14964\\2597290387.py:11: RuntimeWarning: invalid value encountered in scalar subtract\n",
      "  temp_w = w - alpha * dj_dw\n"
     ]
    }
   ],
   "source": [
    "cost_val  = []\n",
    "alpha_val = []\n",
    "for i in alpha:\n",
    "    for j in range(1,10):\n",
    "        alpha_val.append(i*j)\n",
    "        cost_val.append(gradient_descent(x_train, y_train, 0, 0, i*j, 10000, compute_gradient, compute_cost))"
   ]
  },
  {
   "cell_type": "code",
   "execution_count": 114,
   "id": "c1ebc8cd-e7b5-441b-a0e2-22ea6d9f339d",
   "metadata": {},
   "outputs": [
    {
     "name": "stdout",
     "output_type": "stream",
     "text": [
      "[nan, nan, nan, nan, nan, nan, nan, nan, nan, nan, nan, nan, nan, nan, nan, nan, nan, nan, nan, nan, nan, nan, nan, nan, nan, nan, nan, nan, nan, nan, nan, nan, nan, nan, nan, nan, nan, nan, nan, nan, nan, nan, nan, nan, nan, 24.577447378949618, nan, nan, nan, nan, nan, nan, nan, nan, 24.577447378949618, 24.577447378949582, 24.57744737894955, 24.57744737894955, 24.57744737894955, 24.57744737894955, 24.57744737894955, 24.577447378949582, 24.577447378949618, 24.577447378950428, 24.577447378950005, 24.577447378949866, 24.577447378949795, 24.577447378949724, 24.577447378949724, 24.57744737894969, 24.57744737894969, 24.577447378949618, 24.57744827692584, 24.577447378954126, 24.577447378952577, 24.577447378951838, 24.577447378951344, 24.577447378951064, 24.57744737895085, 24.577447378950712, 24.57744737895057, 105.94137102531658, 30.27472375224414, 25.274972783065035, 24.675807251713138, 24.59163500442609, 24.579500022584774, 24.577744387691048, 24.57749034185073, 24.577453591359298, 1797.196302374893, 1255.8557124142965, 883.2650078615438, 626.1895805459789, 448.30202474619955, 324.79228094438116, 238.69955844496448, 178.41540141563075, 135.9834653344828, 2492.5168093635866, 2403.1200737630697, 2317.0311900343986, 2234.1263722051385, 2154.286493680934, 2077.396911343972, 2003.3472963019615, 1932.0314710359899, 1863.347252705129, 2575.908292839948, 2566.5021218062275, 2557.131376455723, 2547.795921864144, 2538.4956236240373, 2529.2303478427975, 2519.9999611406906, 2510.804330648886, 2501.6433240074884, 2584.4042476624286, 2583.45882715913, 2582.513763353957, 2581.569056110817, 2580.624705293667, 2579.680710766516, 2578.7370723934287, 2577.7937900385186, 2576.850863565952, 2585.2554312048196, 2585.160840979207, 2585.0662543230274, 2584.9716712361433, 2584.8770917184193, 2584.7825157697184, 2584.6879433899053, 2584.5933745788434, 2584.4988093363972, 2585.3405654598473, 2585.331105955392, 2585.3216464866337, 2585.3121870535706, 2585.302727656205, 2585.2932682945357, 2585.283808968563, 2585.274349678286, 2585.264890423705, 2585.3490790443784, 2585.3481330891136, 2585.3471871342063, 2585.3462411796554, 2585.345295225462, 2585.3443492716256, 2585.343403318145, 2585.3424573650227, 2585.3415114122568, 2585.3499304044217, 2585.349835808847, 2585.349741213276, 2585.3496466177085, 2585.3495520221445, 2585.349457426584, 2585.349362831028, 2585.3492682354745, 2585.3491736399246, 2585.3500155404417, 2585.3500060808847, 2585.349996621326, 2585.3499871617682, 2585.3499777022107, 2585.3499682426527, 2585.349958783095, 2585.349949323537, 2585.34993986398, 2585.3500240540443, 2585.3500231080884, 2585.3500221621325, 2585.350021216177, 2585.3500202702216, 2585.3500193242653, 2585.35001837831, 2585.3500174323535, 2585.350016486398]\n"
     ]
    }
   ],
   "source": [
    "print(cost_val)"
   ]
  },
  {
   "cell_type": "code",
   "execution_count": 117,
   "id": "697e1f28-f0ad-4f13-af42-3802f804a0e5",
   "metadata": {},
   "outputs": [
    {
     "name": "stdout",
     "output_type": "stream",
     "text": [
      "[0.1, 0.2, 0.30000000000000004, 0.4, 0.5, 0.6000000000000001, 0.7000000000000001, 0.8, 0.9, 0.01, 0.02, 0.03, 0.04, 0.05, 0.06, 0.07, 0.08, 0.09, 0.001, 0.002, 0.003, 0.004, 0.005, 0.006, 0.007, 0.008, 0.009000000000000001, 0.0001, 0.0002, 0.00030000000000000003, 0.0004, 0.0005, 0.0006000000000000001, 0.0007, 0.0008, 0.0009000000000000001, 1e-05, 2e-05, 3.0000000000000004e-05, 4e-05, 5e-05, 6.000000000000001e-05, 7.000000000000001e-05, 8e-05, 9e-05, 1.0000000000000002e-06, 2.0000000000000003e-06, 3.0000000000000005e-06, 4.000000000000001e-06, 5.000000000000001e-06, 6.000000000000001e-06, 7.000000000000001e-06, 8.000000000000001e-06, 9.000000000000002e-06, 1.0000000000000002e-07, 2.0000000000000004e-07, 3.000000000000001e-07, 4.000000000000001e-07, 5.000000000000001e-07, 6.000000000000002e-07, 7.000000000000002e-07, 8.000000000000002e-07, 9.000000000000002e-07, 1.0000000000000002e-08, 2.0000000000000004e-08, 3.0000000000000004e-08, 4.000000000000001e-08, 5.000000000000001e-08, 6.000000000000001e-08, 7.000000000000002e-08, 8.000000000000001e-08, 9.000000000000001e-08, 1.0000000000000003e-09, 2.0000000000000005e-09, 3.000000000000001e-09, 4.000000000000001e-09, 5.000000000000002e-09, 6.000000000000002e-09, 7.0000000000000015e-09, 8.000000000000002e-09, 9.000000000000003e-09, 1.0000000000000003e-10, 2.0000000000000006e-10, 3.000000000000001e-10, 4.000000000000001e-10, 5.000000000000001e-10, 6.000000000000002e-10, 7.000000000000002e-10, 8.000000000000002e-10, 9.000000000000003e-10, 1.0000000000000003e-11, 2.0000000000000005e-11, 3.0000000000000006e-11, 4.000000000000001e-11, 5.0000000000000015e-11, 6.000000000000001e-11, 7.000000000000002e-11, 8.000000000000002e-11, 9.000000000000003e-11, 1.0000000000000002e-12, 2.0000000000000004e-12, 3.0000000000000005e-12, 4.000000000000001e-12, 5.0000000000000005e-12, 6.000000000000001e-12, 7.000000000000002e-12, 8.000000000000001e-12, 9.000000000000001e-12, 1.0000000000000002e-13, 2.0000000000000003e-13, 3.0000000000000003e-13, 4.0000000000000006e-13, 5.000000000000001e-13, 6.000000000000001e-13, 7.000000000000001e-13, 8.000000000000001e-13, 9.000000000000001e-13, 1.0000000000000002e-14, 2.0000000000000003e-14, 3.0000000000000005e-14, 4.0000000000000006e-14, 5.000000000000001e-14, 6.000000000000001e-14, 7e-14, 8.000000000000001e-14, 9.000000000000002e-14, 1e-15, 2e-15, 3.0000000000000002e-15, 4e-15, 5.000000000000001e-15, 6.0000000000000005e-15, 7e-15, 8e-15, 9.000000000000001e-15, 1.0000000000000001e-16, 2.0000000000000002e-16, 3.0000000000000004e-16, 4.0000000000000004e-16, 5e-16, 6.000000000000001e-16, 7e-16, 8.000000000000001e-16, 9e-16, 1e-17, 2e-17, 3e-17, 4e-17, 5.0000000000000005e-17, 6e-17, 7e-17, 8e-17, 9.000000000000001e-17, 1e-18, 2e-18, 3.0000000000000002e-18, 4e-18, 5e-18, 6.0000000000000004e-18, 7e-18, 8e-18, 9.000000000000001e-18, 1.0000000000000001e-19, 2.0000000000000002e-19, 3.0000000000000004e-19, 4.0000000000000004e-19, 5e-19, 6.000000000000001e-19, 7e-19, 8.000000000000001e-19, 9e-19, 1.0000000000000001e-20, 2.0000000000000002e-20, 3e-20, 4.0000000000000004e-20, 5.0000000000000005e-20, 6e-20, 7.000000000000001e-20, 8.000000000000001e-20, 9e-20]\n"
     ]
    }
   ],
   "source": [
    "print(alpha_val)"
   ]
  },
  {
   "cell_type": "code",
   "execution_count": 62,
   "id": "93252ae2-2912-4426-8feb-a0f5736d3475",
   "metadata": {},
   "outputs": [],
   "source": [
    "import pandas as pd \n",
    "#dropna will not work 'tried'"
   ]
  },
  {
   "cell_type": "code",
   "execution_count": 119,
   "id": "f09d7cf2-2eeb-458f-8490-5e3bc2a7acd1",
   "metadata": {},
   "outputs": [],
   "source": [
    "nan = cost_val[0]\n",
    "temp_cost_val = [ x for x in cost_val if (math.isnan(x) == False)]"
   ]
  },
  {
   "cell_type": "code",
   "execution_count": 121,
   "id": "a81ed9ad-08af-4de9-b04b-c1e568ab20e5",
   "metadata": {},
   "outputs": [
    {
     "name": "stdout",
     "output_type": "stream",
     "text": [
      "[24.577447378949618, 24.577447378949618, 24.577447378949582, 24.57744737894955, 24.57744737894955, 24.57744737894955, 24.57744737894955, 24.57744737894955, 24.577447378949582, 24.577447378949618, 24.577447378950428, 24.577447378950005, 24.577447378949866, 24.577447378949795, 24.577447378949724, 24.577447378949724, 24.57744737894969, 24.57744737894969, 24.577447378949618, 24.57744827692584, 24.577447378954126, 24.577447378952577, 24.577447378951838, 24.577447378951344, 24.577447378951064, 24.57744737895085, 24.577447378950712, 24.57744737895057, 105.94137102531658, 30.27472375224414, 25.274972783065035, 24.675807251713138, 24.59163500442609, 24.579500022584774, 24.577744387691048, 24.57749034185073, 24.577453591359298, 1797.196302374893, 1255.8557124142965, 883.2650078615438, 626.1895805459789, 448.30202474619955, 324.79228094438116, 238.69955844496448, 178.41540141563075, 135.9834653344828, 2492.5168093635866, 2403.1200737630697, 2317.0311900343986, 2234.1263722051385, 2154.286493680934, 2077.396911343972, 2003.3472963019615, 1932.0314710359899, 1863.347252705129, 2575.908292839948, 2566.5021218062275, 2557.131376455723, 2547.795921864144, 2538.4956236240373, 2529.2303478427975, 2519.9999611406906, 2510.804330648886, 2501.6433240074884, 2584.4042476624286, 2583.45882715913, 2582.513763353957, 2581.569056110817, 2580.624705293667, 2579.680710766516, 2578.7370723934287, 2577.7937900385186, 2576.850863565952, 2585.2554312048196, 2585.160840979207, 2585.0662543230274, 2584.9716712361433, 2584.8770917184193, 2584.7825157697184, 2584.6879433899053, 2584.5933745788434, 2584.4988093363972, 2585.3405654598473, 2585.331105955392, 2585.3216464866337, 2585.3121870535706, 2585.302727656205, 2585.2932682945357, 2585.283808968563, 2585.274349678286, 2585.264890423705, 2585.3490790443784, 2585.3481330891136, 2585.3471871342063, 2585.3462411796554, 2585.345295225462, 2585.3443492716256, 2585.343403318145, 2585.3424573650227, 2585.3415114122568, 2585.3499304044217, 2585.349835808847, 2585.349741213276, 2585.3496466177085, 2585.3495520221445, 2585.349457426584, 2585.349362831028, 2585.3492682354745, 2585.3491736399246, 2585.3500155404417, 2585.3500060808847, 2585.349996621326, 2585.3499871617682, 2585.3499777022107, 2585.3499682426527, 2585.349958783095, 2585.349949323537, 2585.34993986398, 2585.3500240540443, 2585.3500231080884, 2585.3500221621325, 2585.350021216177, 2585.3500202702216, 2585.3500193242653, 2585.35001837831, 2585.3500174323535, 2585.350016486398]\n"
     ]
    }
   ],
   "source": [
    "print(temp_cost_val)"
   ]
  },
  {
   "cell_type": "code",
   "execution_count": 123,
   "id": "7e409c37-1179-47f3-b200-69975dc6c8af",
   "metadata": {},
   "outputs": [
    {
     "name": "stdout",
     "output_type": "stream",
     "text": [
      "24.57744737894955\n"
     ]
    }
   ],
   "source": [
    "min_cost = min(temp_cost_val)\n",
    "print(min_cost)"
   ]
  },
  {
   "cell_type": "code",
   "execution_count": 125,
   "id": "7fd53d66-b18c-4584-8aa7-e00b82a78e9d",
   "metadata": {},
   "outputs": [
    {
     "name": "stdout",
     "output_type": "stream",
     "text": [
      "56\n"
     ]
    }
   ],
   "source": [
    "index = cost_val.index(min_cost)\n",
    "print(index)\n"
   ]
  },
  {
   "cell_type": "code",
   "execution_count": 127,
   "id": "481d8a22-b534-4121-8135-ee32c7ca39ac",
   "metadata": {},
   "outputs": [],
   "source": [
    "a = alpha_val[index] #minimized cost for alpha at loc. 3 in alpha_val"
   ]
  },
  {
   "cell_type": "code",
   "execution_count": 131,
   "id": "011e470e-c7d7-4fa3-bae9-a81a47208f05",
   "metadata": {},
   "outputs": [
    {
     "name": "stdout",
     "output_type": "stream",
     "text": [
      "Iteration    0  cost : 5.321084e+02  dj_dw : -8.426e+04  dj_db : -4.288e+01  b : 1.286e-05  w : 2.527776e-02\n",
      "Iteration 1000  cost : 2.457745e+01  dj_dw : 0.000e+00  dj_db : 0.000e+00  b : 2.221e-05  w : 4.364375e-02\n",
      "Iteration 2000  cost : 2.457745e+01  dj_dw : 0.000e+00  dj_db : 0.000e+00  b : 2.221e-05  w : 4.364375e-02\n",
      "Iteration 3000  cost : 2.457745e+01  dj_dw : 0.000e+00  dj_db : 0.000e+00  b : 2.221e-05  w : 4.364375e-02\n",
      "Iteration 4000  cost : 2.457745e+01  dj_dw : 0.000e+00  dj_db : 0.000e+00  b : 2.221e-05  w : 4.364375e-02\n",
      "Iteration 5000  cost : 2.457745e+01  dj_dw : 0.000e+00  dj_db : 0.000e+00  b : 2.221e-05  w : 4.364375e-02\n",
      "Iteration 6000  cost : 2.457745e+01  dj_dw : 0.000e+00  dj_db : 0.000e+00  b : 2.221e-05  w : 4.364375e-02\n",
      "Iteration 7000  cost : 2.457745e+01  dj_dw : 0.000e+00  dj_db : 0.000e+00  b : 2.221e-05  w : 4.364375e-02\n",
      "Iteration 8000  cost : 2.457745e+01  dj_dw : 0.000e+00  dj_db : 0.000e+00  b : 2.221e-05  w : 4.364375e-02\n",
      "Iteration 9000  cost : 2.457745e+01  dj_dw : 0.000e+00  dj_db : 0.000e+00  b : 2.221e-05  w : 4.364375e-02\n"
     ]
    }
   ],
   "source": [
    "def min_gradient_descent(x, y, win, bin, alpha, itr, pd_gradient, t_cost):\n",
    "    p_history = []\n",
    "    j_history = []\n",
    "    w_history = []\n",
    "    b_history = []\n",
    "    w = copy.deepcopy(win)\n",
    "    b = copy.deepcopy(bin)\n",
    "    for i in range(itr):\n",
    "        dj_dw , dj_db = pd_gradient(x,y,w,b)\n",
    "        temp_b = b - alpha * dj_db\n",
    "        temp_w = w - alpha * dj_dw\n",
    "        b = temp_b\n",
    "        w = temp_w\n",
    "        if i<10001:\n",
    "            p_history.append([w,b])\n",
    "            j_history.append(t_cost(x,y,w,b))\n",
    "            w_history.append(w)\n",
    "            b_history.append(b)\n",
    "        if i % math.ceil(itr/10) == 0:\n",
    "            print(f\"Iteration {i:4}  cost : {j_history[i]:1e}  dj_dw : {dj_dw:0.3e}  dj_db : {dj_db:0.3e}  b : {b:0.3e}  w : {w:3e}\")\n",
    "    return w,b,t_cost(x,y,w,b),j_history,w_history,b_history\n",
    "    #return t_cost(x,y,w,b)\n",
    "w,b,j,j_history,w_history,b_history = min_gradient_descent(x_train, y_train, 0, 0, a, 10000, compute_gradient, compute_cost)"
   ]
  },
  {
   "cell_type": "code",
   "execution_count": 137,
   "id": "39a9e70d-7c09-4bc7-8b2b-ebd47392749c",
   "metadata": {},
   "outputs": [
    {
     "name": "stdout",
     "output_type": "stream",
     "text": [
      "Cost = 24.57744737894955   W = 0.04364375460022284   B = 2.2210562137517977e-05\n"
     ]
    }
   ],
   "source": [
    "print(f\"Cost = {j}   W = {w}   B = {b}\")"
   ]
  },
  {
   "cell_type": "markdown",
   "id": "29f4d031-a515-4e0f-b2ff-6f2f151ddfaf",
   "metadata": {},
   "source": [
    "Now what we have done here is we calculated the value of learning rate alpha from 0.1 to 9 to the power minus 20 and Then we have created the variable cost val and alpha val in order to store the iterative values of cost and alpha. Note here the indexs of cost_val and alpha_val are in sync and after that we removed the nan values from cost_val and stored the cost values in the temp_cost_val then so find the minimum cost value from temp_cost_val and after we got the minimum cost we found the index at which the minimum cost is present in cost_val and then we find out the alpha value for that min cost using the same minimum cost index we got from cost_val"
   ]
  },
  {
   "cell_type": "code",
   "execution_count": 140,
   "id": "b97016b7-be92-410c-9a48-542a4b7bed3e",
   "metadata": {},
   "outputs": [
    {
     "data": {
      "image/png": "[encoded data removed]",
      "text/plain": [
       "<Figure size 1200x400 with 2 Axes>"
      ]
     },
     "metadata": {},
     "output_type": "display_data"
    }
   ],
   "source": [
    "fig, (ax1, ax2) = plt.subplots(1, 2, constrained_layout=True, figsize=(12,4))\n",
    "ax1.plot(j_history[:100])\n",
    "ax2.plot(200 + np.arange(len(j_history[1000:])), j_history[1000:])\n",
    "ax1.set_title(\"Cost vs. iteration(start)\");  ax2.set_title(\"Cost vs. iteration (end)\")\n",
    "ax1.set_ylabel('Cost')            ;  ax2.set_ylabel('Cost') \n",
    "ax1.set_xlabel('iteration step')  ;  ax2.set_xlabel('iteration step') \n",
    "plt.show()"
   ]
  },
  {
   "cell_type": "code",
   "execution_count": 156,
   "id": "21f22312-74f7-45af-86bd-043d761d87ea",
   "metadata": {},
   "outputs": [
    {
     "data": {
      "text/plain": [
       "<matplotlib.legend.Legend at 0x244c1c2e8d0>"
      ]
     },
     "execution_count": 156,
     "metadata": {},
     "output_type": "execute_result"
    },
    {
     "data": {
      "image/png": "[encoded data removed]",
      "text/plain": [
       "<Figure size 1000x1000 with 1 Axes>"
      ]
     },
     "metadata": {},
     "output_type": "display_data"
    }
   ],
   "source": [
    "plt.style.use('_mpl-gallery')\n",
    "\n",
    "fig, ax = plt.subplots(figsize=(10,10))\n",
    "\n",
    "x = np.linspace(1,1e5,100)\n",
    "y = w*x + b\n",
    "\n",
    "\n",
    "ax.scatter(x_train,y_train,marker='.',c='red', label='(x,y)')\n",
    "ax.plot(x,y,color='blue',label='Predictive function')\n",
    "\n",
    "\n",
    "ax.set_xlabel('X label')\n",
    "ax.set_ylabel('Y label')\n",
    "ax.set_title('Linear Regression for single feature using Batch Gradient Descent')\n",
    "ax.legend()\n"
   ]
  },
  {
   "cell_type": "code",
   "execution_count": null,
   "id": "efd947c2-c9b7-49ee-a571-507a32e10e24",
   "metadata": {},
   "outputs": [],
   "source": []
  }
 ],
 "metadata": {
  "kernelspec": {
   "display_name": "Python 3 (ipykernel)",
   "language": "python",
   "name": "python3"
  },
  "language_info": {
   "codemirror_mode": {
    "name": "ipython",
    "version": 3
   },
   "file_extension": ".py",
   "mimetype": "text/x-python",
   "name": "python",
   "nbconvert_exporter": "python",
   "pygments_lexer": "ipython3",
   "version": "3.12.4"
  }
 },
 "nbformat": 4,
 "nbformat_minor": 5
}
